{
 "cells": [
  {
   "cell_type": "code",
   "execution_count": 21,
   "metadata": {},
   "outputs": [
    {
     "name": "stdout",
     "output_type": "stream",
     "text": [
      "Linear Regression - Mean Absolute Error (5-Fold CV): 37.04\n",
      "Random Forest - Mean Absolute Error (5-Fold CV): 32.43\n"
     ]
    }
   ],
   "source": [
    "import pandas as pd\n",
    "import numpy as np\n",
    "from sklearn.model_selection import train_test_split, cross_val_score\n",
    "from sklearn.preprocessing import StandardScaler\n",
    "from sklearn.linear_model import LinearRegression\n",
    "from sklearn.ensemble import RandomForestRegressor\n",
    "from sklearn.metrics import make_scorer, mean_absolute_error\n",
    "\n",
    "# Load dataset\n",
    "data = pd.read_csv('city_day.csv')\n",
    "\n",
    "# Fill missing values in numeric columns only\n",
    "numeric_columns = data.select_dtypes(include=['float64', 'int64']).columns\n",
    "data[numeric_columns] = data[numeric_columns].fillna(data[numeric_columns].mean())\n",
    "\n",
    "# Convert Date column and extract features\n",
    "data['Date'] = pd.to_datetime(data['Date'])\n",
    "data['Month'] = data['Date'].dt.month\n",
    "data['DayOfWeek'] = data['Date'].dt.dayofweek\n",
    "data.drop('Date', axis=1, inplace=True)\n",
    "\n",
    "# Scale pollutant data\n",
    "scaler = StandardScaler()\n",
    "pollutant_columns = ['PM2.5', 'PM10', 'NO', 'NO2', 'NOx', 'NH3', 'CO', 'SO2', 'O3', 'Benzene', 'Toluene', 'Xylene']\n",
    "data[pollutant_columns] = scaler.fit_transform(data[pollutant_columns])\n",
    "\n",
    "# Split data into X and y\n",
    "X = data.drop(['AQI', 'AQI_Bucket', 'City'], axis=1)\n",
    "y = data['AQI']\n",
    "\n",
    "# Custom scorer for MAE\n",
    "mae_scorer = make_scorer(mean_absolute_error, greater_is_better=False)\n",
    "\n",
    "# Initialize models\n",
    "lr_model = LinearRegression()\n",
    "rf_model = RandomForestRegressor(random_state=42)\n",
    "\n",
    "# Cross-validate Linear Regression\n",
    "lr_scores = cross_val_score(lr_model, X, y, cv=5, scoring=mae_scorer)\n",
    "print(f\"Linear Regression - Mean Absolute Error (5-Fold CV): {-lr_scores.mean():.2f}\")\n",
    "\n",
    "# Cross-validate Random Forest\n",
    "rf_scores = cross_val_score(rf_model, X, y, cv=5, scoring=mae_scorer)\n",
    "print(f\"Random Forest - Mean Absolute Error (5-Fold CV): {-rf_scores.mean():.2f}\")"
   ]
  }
 ],
 "metadata": {
  "kernelspec": {
   "display_name": "air_quality_project",
   "language": "python",
   "name": "python3"
  },
  "language_info": {
   "codemirror_mode": {
    "name": "ipython",
    "version": 3
   },
   "file_extension": ".py",
   "mimetype": "text/x-python",
   "name": "python",
   "nbconvert_exporter": "python",
   "pygments_lexer": "ipython3",
   "version": "3.8.20"
  }
 },
 "nbformat": 4,
 "nbformat_minor": 2
}
